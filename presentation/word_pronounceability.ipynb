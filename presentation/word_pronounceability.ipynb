{
 "cells": [
  {
   "cell_type": "markdown",
   "metadata": {},
   "source": [
    "# Our Goal:\n",
    "Be able to determine, given a consecutive string of letters, if it is pronounceable by english-speaking people. \n",
    "\n",
    "\n",
    "# Problem statement\n",
    "- We want to improve at classifying \"words\" as being pronounceable or not\n",
    "- We will measure our progress by the percentage of words correctly classified\n",
    "- based on our database of a literal dictionary and randomly-ish generated non-pronounceable words\n",
    "\n",
    "\n",
    "# Methodology\n",
    "Train several different models on our dataset, trying to teach them what \"pronounceable\" words look like\n",
    "This will include a manually designed heuristic and different ML models\n",
    "\n",
    "## Input Formulation (ML Models)\n",
    "We need to transform words into input vectors, since we need to have quantifiable data. \n",
    "\n",
    "Since we need to store the bigrams of the words, and we care about order, we decided to define the features of our vectors as a list of all possible bigrams within the english alphabet. This results in a 26*26 = 676-dimensional space. We will not be able to encode the order of the bigrams, because any meaningful encoding of this would result in either difficulty plotting the data or skewed data. For example, if the first bigram in the word was given a value of 1, the second was given a value of 2, et cetera, then the feature vectors of longer words would become further and further from the origin in the dimensions of their later bigrams.\n",
    "\n",
    "If our model seems to be less accurate than we would like, we will experiment with finding a way to encode the order.\n",
    "\n",
    "\n",
    "### For example, \n",
    "Our feature vector will take the following shape:\n",
    "`[\"aa\": int, \"ab\": int, \"ac\": int, \"ad\": int .. \"zz\": int]`\n",
    "\n",
    "So for a word like \"abba\", which contains the bigrams `[\"ab\", \"bb\", \"ba\"]\n",
    "Our feature vector would be\n",
    "`[\"aa\": 0, \"ab\": 1, \"ac\": 0 ... \"ba\": 1, \"bb\": 1, \"bc\": 0 ...]`\n",
    "\n",
    "\n"
   ]
  },
  {
   "cell_type": "code",
   "execution_count": null,
   "metadata": {},
   "outputs": [],
   "source": []
  }
 ],
 "metadata": {
  "language_info": {
   "name": "python"
  },
  "orig_nbformat": 4
 },
 "nbformat": 4,
 "nbformat_minor": 2
}
